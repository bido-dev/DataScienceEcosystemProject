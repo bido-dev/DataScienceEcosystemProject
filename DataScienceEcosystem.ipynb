{
 "cells": [
  {
   "cell_type": "markdown",
   "id": "56122d34-0df7-4f0a-af25-478d622e180b",
   "metadata": {},
   "source": [
    "# Data Science Tools and Ecosystem"
   ]
  },
  {
   "cell_type": "markdown",
   "id": "933d4f53-d950-4454-8c75-e063a69387f9",
   "metadata": {},
   "source": [
    "In this notebook, Data Science Tools and Ecosystem are summarized."
   ]
  },
  {
   "cell_type": "markdown",
   "id": "8e549a4d-cc0c-483f-8c4a-4c1cbe4d7f84",
   "metadata": {},
   "source": [
    "**Objectives:**\n",
    "- List popular languages for data science\n",
    "- List popular libraries for data science\n",
    "- List popular data science tools"
   ]
  },
  {
   "attachments": {},
   "cell_type": "markdown",
   "id": "a348fb36-5a69-4c22-adfc-16a6bb9ba39e",
   "metadata": {},
   "source": [
    "Some of the popular languages that Data Scientists use are:\n",
    "1. R\n",
    "2. Python\n",
    "3. SQL"
   ]
  },
  {
   "cell_type": "markdown",
   "id": "a2b6f71b-0603-40e0-a7dd-ba70a960de4c",
   "metadata": {},
   "source": [
    "Some of the commonly used libraries used by Data Scientists include:\n",
    "1. Numpy\n",
    "2. Pandas\n",
    "3. Matplotlib"
   ]
  },
  {
   "cell_type": "markdown",
   "id": "bd875aac-c668-4355-8b3f-186a6002c44c",
   "metadata": {},
   "source": [
    "|Data Science Tools|\n",
    "|-----|\n",
    "|Jupiter Notebooks|\n",
    "|RStodio|\n",
    "|Pytorch|"
   ]
  },
  {
   "cell_type": "markdown",
   "id": "1f248f44-ab30-493c-bc28-8d672019b0dc",
   "metadata": {},
   "source": [
    "### Below are a few examples of evaluating arithmetic expressions in Python"
   ]
  },
  {
   "cell_type": "code",
   "execution_count": 28,
   "id": "8ac2d662-1afa-40d0-a854-e48a9f5280d7",
   "metadata": {},
   "outputs": [
    {
     "name": "stdout",
     "output_type": "stream",
     "text": [
      "17\n"
     ]
    }
   ],
   "source": [
    " #This a simple arithmetic expression to mutiply then add integers\n",
    "print(3*4+5)"
   ]
  },
  {
   "cell_type": "code",
   "execution_count": 38,
   "id": "26d15725-b8c1-427f-a586-cf1120a475e9",
   "metadata": {},
   "outputs": [
    {
     "name": "stdin",
     "output_type": "stream",
     "text": [
      "Enter the number of minutes 200\n"
     ]
    },
    {
     "name": "stdout",
     "output_type": "stream",
     "text": [
      "the number of hours is:  3.3333333333333335\n"
     ]
    }
   ],
   "source": [
    "y = int(input(\"Enter the number of minutes\"))\n",
    "print(\"the number of hours is: \", y/60)"
   ]
  },
  {
   "cell_type": "markdown",
   "id": "c5781786-77a1-42ff-a832-79f7dfcc475c",
   "metadata": {},
   "source": [
    "## Author\n",
    "Abdalla Ammar"
   ]
  },
  {
   "cell_type": "code",
   "execution_count": null,
   "id": "eab61f9b-610d-4373-a0c7-3a732e2977b3",
   "metadata": {},
   "outputs": [],
   "source": []
  }
 ],
 "metadata": {
  "kernelspec": {
   "display_name": "Python 3 (ipykernel)",
   "language": "python",
   "name": "python3"
  },
  "language_info": {
   "codemirror_mode": {
    "name": "ipython",
    "version": 3
   },
   "file_extension": ".py",
   "mimetype": "text/x-python",
   "name": "python",
   "nbconvert_exporter": "python",
   "pygments_lexer": "ipython3",
   "version": "3.11.7"
  }
 },
 "nbformat": 4,
 "nbformat_minor": 5
}
